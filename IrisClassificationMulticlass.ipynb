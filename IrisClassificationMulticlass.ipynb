{
  "nbformat": 4,
  "nbformat_minor": 0,
  "metadata": {
    "colab": {
      "provenance": [],
      "authorship_tag": "ABX9TyN3eQkowk9ZylKLouWsZqYm",
      "include_colab_link": true
    },
    "kernelspec": {
      "name": "python3",
      "display_name": "Python 3"
    },
    "language_info": {
      "name": "python"
    }
  },
  "cells": [
    {
      "cell_type": "markdown",
      "metadata": {
        "id": "view-in-github",
        "colab_type": "text"
      },
      "source": [
        "<a href=\"https://colab.research.google.com/github/kozoB/IrisClassificationANN/blob/main/IrisClassificationMulticlass.ipynb\" target=\"_parent\"><img src=\"https://colab.research.google.com/assets/colab-badge.svg\" alt=\"Open In Colab\"/></a>"
      ]
    },
    {
      "cell_type": "markdown",
      "source": [
        "# Iris Flowers Classification With Deep Learning Model"
      ],
      "metadata": {
        "id": "QbPp_MJlVqlB"
      }
    },
    {
      "cell_type": "markdown",
      "source": [
        "Deep learning model to classify Iris flower using the 'Iris' dataset from \"UC Irvine Machine Learning Repository\" to train and test on.\n",
        "\n",
        "Creating DL model using 'pytorch' library"
      ],
      "metadata": {
        "id": "guyRFGB3Vnih"
      }
    },
    {
      "cell_type": "markdown",
      "source": [
        "# Import Libraries"
      ],
      "metadata": {
        "id": "wm5titA8BOjZ"
      }
    },
    {
      "cell_type": "code",
      "execution_count": 214,
      "metadata": {
        "id": "O1m2jq9msh6o"
      },
      "outputs": [],
      "source": [
        "import torch\n",
        "import torch.nn as nn\n",
        "import torch.optim as optim\n",
        "import torch.nn.functional as F\n",
        "from torch.utils.data import DataLoader\n",
        "\n",
        "import matplotlib\n",
        "import sklearn\n",
        "\n",
        "import pandas as pd\n",
        "import numpy as np\n"
      ]
    },
    {
      "cell_type": "markdown",
      "source": [
        "# Import Iris Dataset"
      ],
      "metadata": {
        "id": "OgV9k_ngBL4s"
      }
    },
    {
      "cell_type": "code",
      "source": [
        "!pip install ucimlrepo"
      ],
      "metadata": {
        "colab": {
          "base_uri": "https://localhost:8080/"
        },
        "id": "OgebfI0uBAvF",
        "outputId": "0d76c3fa-f8c9-4977-9122-7ce92ff819cc"
      },
      "execution_count": 215,
      "outputs": [
        {
          "output_type": "stream",
          "name": "stdout",
          "text": [
            "Requirement already satisfied: ucimlrepo in /usr/local/lib/python3.10/dist-packages (0.0.6)\n"
          ]
        }
      ]
    },
    {
      "cell_type": "code",
      "source": [
        "from ucimlrepo import fetch_ucirepo\n",
        "\n",
        "# fetch dataset\n",
        "iris = fetch_ucirepo(id=53)\n",
        "\n",
        "# data (as pandas dataframes)\n",
        "X = iris.data.features\n",
        "y = iris.data.targets\n",
        "\n",
        "# metadata\n",
        "print(iris.metadata)\n",
        "\n",
        "# variable information\n",
        "print(iris.variables)\n"
      ],
      "metadata": {
        "colab": {
          "base_uri": "https://localhost:8080/"
        },
        "id": "bkWFXgQnBLKs",
        "outputId": "44a22cd6-4ebd-4e1e-d72f-364bdbcd164e"
      },
      "execution_count": 216,
      "outputs": [
        {
          "output_type": "stream",
          "name": "stdout",
          "text": [
            "{'uci_id': 53, 'name': 'Iris', 'repository_url': 'https://archive.ics.uci.edu/dataset/53/iris', 'data_url': 'https://archive.ics.uci.edu/static/public/53/data.csv', 'abstract': 'A small classic dataset from Fisher, 1936. One of the earliest known datasets used for evaluating classification methods.\\n', 'area': 'Biology', 'tasks': ['Classification'], 'characteristics': ['Tabular'], 'num_instances': 150, 'num_features': 4, 'feature_types': ['Real'], 'demographics': [], 'target_col': ['class'], 'index_col': None, 'has_missing_values': 'no', 'missing_values_symbol': None, 'year_of_dataset_creation': 1936, 'last_updated': 'Tue Sep 12 2023', 'dataset_doi': '10.24432/C56C76', 'creators': ['R. A. Fisher'], 'intro_paper': {'title': 'The Iris data set: In search of the source of virginica', 'authors': 'A. Unwin, K. Kleinman', 'published_in': 'Significance, 2021', 'year': 2021, 'url': 'https://www.semanticscholar.org/paper/4599862ea877863669a6a8e63a3c707a787d5d7e', 'doi': '1740-9713.01589'}, 'additional_info': {'summary': 'This is one of the earliest datasets used in the literature on classification methods and widely used in statistics and machine learning.  The data set contains 3 classes of 50 instances each, where each class refers to a type of iris plant.  One class is linearly separable from the other 2; the latter are not linearly separable from each other.\\n\\nPredicted attribute: class of iris plant.\\n\\nThis is an exceedingly simple domain.\\n\\nThis data differs from the data presented in Fishers article (identified by Steve Chadwick,  spchadwick@espeedaz.net ).  The 35th sample should be: 4.9,3.1,1.5,0.2,\"Iris-setosa\" where the error is in the fourth feature. The 38th sample: 4.9,3.6,1.4,0.1,\"Iris-setosa\" where the errors are in the second and third features.  ', 'purpose': 'N/A', 'funded_by': None, 'instances_represent': 'Each instance is a plant', 'recommended_data_splits': None, 'sensitive_data': None, 'preprocessing_description': None, 'variable_info': None, 'citation': None}}\n",
            "           name     role         type demographic  \\\n",
            "0  sepal length  Feature   Continuous        None   \n",
            "1   sepal width  Feature   Continuous        None   \n",
            "2  petal length  Feature   Continuous        None   \n",
            "3   petal width  Feature   Continuous        None   \n",
            "4         class   Target  Categorical        None   \n",
            "\n",
            "                                         description units missing_values  \n",
            "0                                               None    cm             no  \n",
            "1                                               None    cm             no  \n",
            "2                                               None    cm             no  \n",
            "3                                               None    cm             no  \n",
            "4  class of iris plant: Iris Setosa, Iris Versico...  None             no  \n"
          ]
        }
      ]
    },
    {
      "cell_type": "markdown",
      "source": [
        "# Preprocess Dataset"
      ],
      "metadata": {
        "id": "wkzs9xneBTsw"
      }
    },
    {
      "cell_type": "code",
      "source": [
        "print(X)"
      ],
      "metadata": {
        "colab": {
          "base_uri": "https://localhost:8080/"
        },
        "id": "RmYo19qLBYGF",
        "outputId": "a784e522-2a8a-4d7d-92eb-5056d127154c"
      },
      "execution_count": 217,
      "outputs": [
        {
          "output_type": "stream",
          "name": "stdout",
          "text": [
            "     sepal length  sepal width  petal length  petal width\n",
            "0             5.1          3.5           1.4          0.2\n",
            "1             4.9          3.0           1.4          0.2\n",
            "2             4.7          3.2           1.3          0.2\n",
            "3             4.6          3.1           1.5          0.2\n",
            "4             5.0          3.6           1.4          0.2\n",
            "..            ...          ...           ...          ...\n",
            "145           6.7          3.0           5.2          2.3\n",
            "146           6.3          2.5           5.0          1.9\n",
            "147           6.5          3.0           5.2          2.0\n",
            "148           6.2          3.4           5.4          2.3\n",
            "149           5.9          3.0           5.1          1.8\n",
            "\n",
            "[150 rows x 4 columns]\n"
          ]
        }
      ]
    },
    {
      "cell_type": "code",
      "source": [
        "print (y)"
      ],
      "metadata": {
        "colab": {
          "base_uri": "https://localhost:8080/"
        },
        "id": "3aut1t-ZBckF",
        "outputId": "64ebc7d7-c9b3-42f8-c31e-3d98d50627b4"
      },
      "execution_count": 218,
      "outputs": [
        {
          "output_type": "stream",
          "name": "stdout",
          "text": [
            "              class\n",
            "0       Iris-setosa\n",
            "1       Iris-setosa\n",
            "2       Iris-setosa\n",
            "3       Iris-setosa\n",
            "4       Iris-setosa\n",
            "..              ...\n",
            "145  Iris-virginica\n",
            "146  Iris-virginica\n",
            "147  Iris-virginica\n",
            "148  Iris-virginica\n",
            "149  Iris-virginica\n",
            "\n",
            "[150 rows x 1 columns]\n"
          ]
        }
      ]
    },
    {
      "cell_type": "markdown",
      "source": [
        "## Encode Labels"
      ],
      "metadata": {
        "id": "ntmmb629TPTa"
      }
    },
    {
      "cell_type": "code",
      "source": [
        "from sklearn.preprocessing import OneHotEncoder\n",
        "\n",
        "labels = [\"Iris-setosa\",\"Iris-versicolor\", \"Iris-virginica\"]\n",
        "\n",
        "# Create encoder\n",
        "encoder = OneHotEncoder(sparse=False)\n",
        "\n",
        "# Encode labels\n",
        "y = encoder.fit_transform(y)\n",
        "\n",
        "print(y)"
      ],
      "metadata": {
        "colab": {
          "base_uri": "https://localhost:8080/"
        },
        "id": "Kw7Nn5WLBtNN",
        "outputId": "19d9d771-ce78-4914-89bf-9d0d0aedcd8a"
      },
      "execution_count": 219,
      "outputs": [
        {
          "output_type": "stream",
          "name": "stdout",
          "text": [
            "[[1. 0. 0.]\n",
            " [1. 0. 0.]\n",
            " [1. 0. 0.]\n",
            " [1. 0. 0.]\n",
            " [1. 0. 0.]\n",
            " [1. 0. 0.]\n",
            " [1. 0. 0.]\n",
            " [1. 0. 0.]\n",
            " [1. 0. 0.]\n",
            " [1. 0. 0.]\n",
            " [1. 0. 0.]\n",
            " [1. 0. 0.]\n",
            " [1. 0. 0.]\n",
            " [1. 0. 0.]\n",
            " [1. 0. 0.]\n",
            " [1. 0. 0.]\n",
            " [1. 0. 0.]\n",
            " [1. 0. 0.]\n",
            " [1. 0. 0.]\n",
            " [1. 0. 0.]\n",
            " [1. 0. 0.]\n",
            " [1. 0. 0.]\n",
            " [1. 0. 0.]\n",
            " [1. 0. 0.]\n",
            " [1. 0. 0.]\n",
            " [1. 0. 0.]\n",
            " [1. 0. 0.]\n",
            " [1. 0. 0.]\n",
            " [1. 0. 0.]\n",
            " [1. 0. 0.]\n",
            " [1. 0. 0.]\n",
            " [1. 0. 0.]\n",
            " [1. 0. 0.]\n",
            " [1. 0. 0.]\n",
            " [1. 0. 0.]\n",
            " [1. 0. 0.]\n",
            " [1. 0. 0.]\n",
            " [1. 0. 0.]\n",
            " [1. 0. 0.]\n",
            " [1. 0. 0.]\n",
            " [1. 0. 0.]\n",
            " [1. 0. 0.]\n",
            " [1. 0. 0.]\n",
            " [1. 0. 0.]\n",
            " [1. 0. 0.]\n",
            " [1. 0. 0.]\n",
            " [1. 0. 0.]\n",
            " [1. 0. 0.]\n",
            " [1. 0. 0.]\n",
            " [1. 0. 0.]\n",
            " [0. 1. 0.]\n",
            " [0. 1. 0.]\n",
            " [0. 1. 0.]\n",
            " [0. 1. 0.]\n",
            " [0. 1. 0.]\n",
            " [0. 1. 0.]\n",
            " [0. 1. 0.]\n",
            " [0. 1. 0.]\n",
            " [0. 1. 0.]\n",
            " [0. 1. 0.]\n",
            " [0. 1. 0.]\n",
            " [0. 1. 0.]\n",
            " [0. 1. 0.]\n",
            " [0. 1. 0.]\n",
            " [0. 1. 0.]\n",
            " [0. 1. 0.]\n",
            " [0. 1. 0.]\n",
            " [0. 1. 0.]\n",
            " [0. 1. 0.]\n",
            " [0. 1. 0.]\n",
            " [0. 1. 0.]\n",
            " [0. 1. 0.]\n",
            " [0. 1. 0.]\n",
            " [0. 1. 0.]\n",
            " [0. 1. 0.]\n",
            " [0. 1. 0.]\n",
            " [0. 1. 0.]\n",
            " [0. 1. 0.]\n",
            " [0. 1. 0.]\n",
            " [0. 1. 0.]\n",
            " [0. 1. 0.]\n",
            " [0. 1. 0.]\n",
            " [0. 1. 0.]\n",
            " [0. 1. 0.]\n",
            " [0. 1. 0.]\n",
            " [0. 1. 0.]\n",
            " [0. 1. 0.]\n",
            " [0. 1. 0.]\n",
            " [0. 1. 0.]\n",
            " [0. 1. 0.]\n",
            " [0. 1. 0.]\n",
            " [0. 1. 0.]\n",
            " [0. 1. 0.]\n",
            " [0. 1. 0.]\n",
            " [0. 1. 0.]\n",
            " [0. 1. 0.]\n",
            " [0. 1. 0.]\n",
            " [0. 1. 0.]\n",
            " [0. 1. 0.]\n",
            " [0. 1. 0.]\n",
            " [0. 0. 1.]\n",
            " [0. 0. 1.]\n",
            " [0. 0. 1.]\n",
            " [0. 0. 1.]\n",
            " [0. 0. 1.]\n",
            " [0. 0. 1.]\n",
            " [0. 0. 1.]\n",
            " [0. 0. 1.]\n",
            " [0. 0. 1.]\n",
            " [0. 0. 1.]\n",
            " [0. 0. 1.]\n",
            " [0. 0. 1.]\n",
            " [0. 0. 1.]\n",
            " [0. 0. 1.]\n",
            " [0. 0. 1.]\n",
            " [0. 0. 1.]\n",
            " [0. 0. 1.]\n",
            " [0. 0. 1.]\n",
            " [0. 0. 1.]\n",
            " [0. 0. 1.]\n",
            " [0. 0. 1.]\n",
            " [0. 0. 1.]\n",
            " [0. 0. 1.]\n",
            " [0. 0. 1.]\n",
            " [0. 0. 1.]\n",
            " [0. 0. 1.]\n",
            " [0. 0. 1.]\n",
            " [0. 0. 1.]\n",
            " [0. 0. 1.]\n",
            " [0. 0. 1.]\n",
            " [0. 0. 1.]\n",
            " [0. 0. 1.]\n",
            " [0. 0. 1.]\n",
            " [0. 0. 1.]\n",
            " [0. 0. 1.]\n",
            " [0. 0. 1.]\n",
            " [0. 0. 1.]\n",
            " [0. 0. 1.]\n",
            " [0. 0. 1.]\n",
            " [0. 0. 1.]\n",
            " [0. 0. 1.]\n",
            " [0. 0. 1.]\n",
            " [0. 0. 1.]\n",
            " [0. 0. 1.]\n",
            " [0. 0. 1.]\n",
            " [0. 0. 1.]\n",
            " [0. 0. 1.]\n",
            " [0. 0. 1.]\n",
            " [0. 0. 1.]\n",
            " [0. 0. 1.]]\n"
          ]
        },
        {
          "output_type": "stream",
          "name": "stderr",
          "text": [
            "/usr/local/lib/python3.10/dist-packages/sklearn/preprocessing/_encoders.py:868: FutureWarning: `sparse` was renamed to `sparse_output` in version 1.2 and will be removed in 1.4. `sparse_output` is ignored unless you leave `sparse` to its default value.\n",
            "  warnings.warn(\n"
          ]
        }
      ]
    },
    {
      "cell_type": "code",
      "source": [
        "batch_size = 30"
      ],
      "metadata": {
        "id": "FNiRXcgBK2zq"
      },
      "execution_count": 220,
      "outputs": []
    },
    {
      "cell_type": "markdown",
      "source": [
        "## Split Data To Train And Test Sets"
      ],
      "metadata": {
        "id": "oWbqTC3NTBr_"
      }
    },
    {
      "cell_type": "code",
      "source": [
        "from sklearn.model_selection import train_test_split\n",
        "\n",
        "# Split to train and test data\n",
        "X_train, X_test, y_train, y_test = train_test_split(X, y, test_size=0.2, random_state=42)\n",
        "\n",
        "print(X_train.shape)\n",
        "print(y_train.shape)\n",
        "print(X_test.shape)\n",
        "print(y_test.shape)\n",
        "\n",
        "print(type(X_train))\n",
        "print(type(X_test))\n",
        "print(type(y_train))\n",
        "print(type(y_test))\n",
        "\n",
        "# Convert dataset to torch tensors\n",
        "if torch.cuda.is_available():\n",
        "    device = torch.device(\"cuda\")  # Use GPU if available\n",
        "else:\n",
        "    device = torch.device(\"cpu\")  # Use CPU\n",
        "\n",
        "# Convert to numpy array before creating pytorch tensor\n",
        "X_train_numpy = X_train.to_numpy()\n",
        "X_test_numpy = X_test.to_numpy()\n",
        "\n",
        "# Create pytorch tensors\n",
        "X_train_tensor = torch.from_numpy(X_train_numpy).to(device=device, dtype=torch.float32)\n",
        "y_train_tensor = torch.from_numpy(y_train).to(device=device, dtype=torch.float32)\n",
        "X_test_tensor = torch.from_numpy(X_test_numpy).to(device=device, dtype=torch.float32)\n",
        "y_test_tensor = torch.from_numpy(y_test).to(device=device, dtype=torch.float32)\n",
        "\n",
        "print(X_train_tensor.dtype)\n",
        "print(X_test_tensor.dtype)\n",
        "print(y_train_tensor.dtype)\n",
        "print(y_test_tensor.dtype)\n",
        "\n",
        "# Create dataloader out of train and test tensors\n",
        "train_loader = DataLoader(\n",
        "    dataset=torch.utils.data.TensorDataset(X_train_tensor, y_train_tensor),\n",
        "    batch_size=batch_size,  # Replace with your desired batch size\n",
        "    shuffle=True  # Shuffle data for each epoch (recommended for training)\n",
        ")\n",
        "\n",
        "# Testing data loader (no shuffling needed for testing)\n",
        "test_loader = DataLoader(\n",
        "    dataset=torch.utils.data.TensorDataset(X_test_tensor, y_test_tensor),\n",
        "    batch_size=batch_size\n",
        ")\n"
      ],
      "metadata": {
        "colab": {
          "base_uri": "https://localhost:8080/"
        },
        "id": "MtCUyCx4EYNA",
        "outputId": "09d915c1-b6a7-4a05-b60e-72ac2019d2b1"
      },
      "execution_count": 221,
      "outputs": [
        {
          "output_type": "stream",
          "name": "stdout",
          "text": [
            "(120, 4)\n",
            "(120, 3)\n",
            "(30, 4)\n",
            "(30, 3)\n",
            "<class 'pandas.core.frame.DataFrame'>\n",
            "<class 'pandas.core.frame.DataFrame'>\n",
            "<class 'numpy.ndarray'>\n",
            "<class 'numpy.ndarray'>\n",
            "torch.float32\n",
            "torch.float32\n",
            "torch.float32\n",
            "torch.float32\n"
          ]
        }
      ]
    },
    {
      "cell_type": "markdown",
      "source": [
        "## Dataloaders info"
      ],
      "metadata": {
        "id": "aC-7HmqESou-"
      }
    },
    {
      "cell_type": "code",
      "source": [
        "from itertools import islice\n",
        "\n",
        "# Show info about the train dataloader\n",
        "print(\"Train dataloader info:\\n\")\n",
        "print(f\"Number of batches: {len(train_loader)}\")\n",
        "print(f\"Batch size: {train_loader.batch_size}\")\n",
        "\n",
        "for batch_idx, (data, target) in enumerate(islice(train_loader, 4)):\n",
        "    print(f\"Batch {batch_idx+1}:\")\n",
        "    print(\"Data shape:\", data.shape)\n",
        "    print(\"Target shape:\", target.shape)\n",
        "\n",
        "# Show info about the test dataloader\n",
        "print(\"\\nTest dataloader info:\\n\")\n",
        "print(f\"Number of batches: {len(test_loader)}\")\n",
        "print(f\"Batch size: {test_loader.batch_size}\")\n",
        "\n",
        "for batch_idx, (data, target) in enumerate(islice(test_loader, 1)):\n",
        "    print(f\"Batch {batch_idx+1}:\")\n",
        "    print(\"Data shape:\", data.shape)\n",
        "    print(\"Target shape:\", target.shape)"
      ],
      "metadata": {
        "colab": {
          "base_uri": "https://localhost:8080/"
        },
        "id": "qKeIOyK3SOCb",
        "outputId": "fc12a7cb-7252-45a9-e6e4-4f3e586ad40e"
      },
      "execution_count": 222,
      "outputs": [
        {
          "output_type": "stream",
          "name": "stdout",
          "text": [
            "Train dataloader info:\n",
            "\n",
            "Number of batches: 4\n",
            "Batch size: 30\n",
            "Batch 1:\n",
            "Data shape: torch.Size([30, 4])\n",
            "Target shape: torch.Size([30, 3])\n",
            "Batch 2:\n",
            "Data shape: torch.Size([30, 4])\n",
            "Target shape: torch.Size([30, 3])\n",
            "Batch 3:\n",
            "Data shape: torch.Size([30, 4])\n",
            "Target shape: torch.Size([30, 3])\n",
            "Batch 4:\n",
            "Data shape: torch.Size([30, 4])\n",
            "Target shape: torch.Size([30, 3])\n",
            "\n",
            "Test dataloader info:\n",
            "\n",
            "Number of batches: 1\n",
            "Batch size: 30\n",
            "Batch 1:\n",
            "Data shape: torch.Size([30, 4])\n",
            "Target shape: torch.Size([30, 3])\n"
          ]
        }
      ]
    },
    {
      "cell_type": "markdown",
      "source": [
        "# Define Model"
      ],
      "metadata": {
        "id": "Ejtk-F5JTYEP"
      }
    },
    {
      "cell_type": "markdown",
      "source": [
        "## Define input and output numbers of the model"
      ],
      "metadata": {
        "id": "dc6UIZGpVYNy"
      }
    },
    {
      "cell_type": "code",
      "source": [
        "# Input number (number of features in dataset)\n",
        "features_num = next(iter(train_loader))[0].shape[1]\n",
        "# Output number (number of labels in dataset)\n",
        "labels_num = next(iter(train_loader))[1].shape[1]\n",
        "\n",
        "print(f\"input num: {features_num}\")\n",
        "print(f\"output num: {labels_num}\")"
      ],
      "metadata": {
        "colab": {
          "base_uri": "https://localhost:8080/"
        },
        "id": "CAXDO8ENUad3",
        "outputId": "6a50a04d-7947-4585-c826-f42f03ee50f7"
      },
      "execution_count": 223,
      "outputs": [
        {
          "output_type": "stream",
          "name": "stdout",
          "text": [
            "input num: 4\n",
            "output num: 3\n"
          ]
        }
      ]
    },
    {
      "cell_type": "markdown",
      "source": [
        "## Create Model Object"
      ],
      "metadata": {
        "id": "eXw0qmRpV5Dk"
      }
    },
    {
      "cell_type": "markdown",
      "source": [
        "A learning rate of 0.01 is used as the dataset is easy to learn and there is no need for a lower learning rate.\n",
        "The model converges faster"
      ],
      "metadata": {
        "id": "BuFgAo5aXZvh"
      }
    },
    {
      "cell_type": "code",
      "source": [
        "lr = 0.01"
      ],
      "metadata": {
        "id": "H-VipizmaKpT"
      },
      "execution_count": 224,
      "outputs": []
    },
    {
      "cell_type": "code",
      "source": [
        "def CreateModel():\n",
        "  model = nn.Sequential(\n",
        "      nn.Linear(features_num, 32),\n",
        "      nn.ReLU(),\n",
        "      nn.Linear(32, 32),\n",
        "      nn.ReLU(),\n",
        "      nn.Linear(32, labels_num),\n",
        "  )\n",
        "\n",
        "  loss_fun = nn.CrossEntropyLoss()\n",
        "  optimizer = optim.SGD(model.parameters(), lr=lr)\n",
        "\n",
        "  return model, loss_fun, optimizer"
      ],
      "metadata": {
        "id": "jT5f080jTb1W"
      },
      "execution_count": 225,
      "outputs": []
    },
    {
      "cell_type": "markdown",
      "source": [
        "## Model Info"
      ],
      "metadata": {
        "id": "OeT6YCT0abNz"
      }
    },
    {
      "cell_type": "code",
      "source": [
        "nn_model, loss_fun, optimizer = CreateModel()\n",
        "print(nn_model)\n",
        "print(optimizer)\n",
        "print(loss_fun)"
      ],
      "metadata": {
        "colab": {
          "base_uri": "https://localhost:8080/"
        },
        "id": "TXNi54ygaa3G",
        "outputId": "931e5f28-fe44-4568-9338-2b1ec1293274"
      },
      "execution_count": 226,
      "outputs": [
        {
          "output_type": "stream",
          "name": "stdout",
          "text": [
            "Sequential(\n",
            "  (0): Linear(in_features=4, out_features=32, bias=True)\n",
            "  (1): ReLU()\n",
            "  (2): Linear(in_features=32, out_features=32, bias=True)\n",
            "  (3): ReLU()\n",
            "  (4): Linear(in_features=32, out_features=3, bias=True)\n",
            ")\n",
            "SGD (\n",
            "Parameter Group 0\n",
            "    dampening: 0\n",
            "    differentiable: False\n",
            "    foreach: None\n",
            "    lr: 0.01\n",
            "    maximize: False\n",
            "    momentum: 0\n",
            "    nesterov: False\n",
            "    weight_decay: 0\n",
            ")\n",
            "CrossEntropyLoss()\n"
          ]
        }
      ]
    },
    {
      "cell_type": "markdown",
      "source": [
        "# Train Model"
      ],
      "metadata": {
        "id": "5k7re_ZnfawB"
      }
    },
    {
      "cell_type": "markdown",
      "source": [
        "Model training loop over 1000 epochs and batches of 30\n",
        "\n",
        "1000 epochs are enough for the model to converge on a solution"
      ],
      "metadata": {
        "id": "c3nkD_viWMtv"
      }
    },
    {
      "cell_type": "code",
      "source": [
        "def TrainModel():\n",
        "  epochs = 1000\n",
        "\n",
        "  trainAcc = []\n",
        "  testAcc  = []\n",
        "  losses   = []\n",
        "\n",
        "  # loop over epochs\n",
        "  for epoch in range(epochs):\n",
        "    # loop over batches\n",
        "    batchAcc  = []\n",
        "    batchLoss = []\n",
        "\n",
        "    for X,y in train_loader:\n",
        "      nn_model.train()\n",
        "\n",
        "      # forward pass\n",
        "      y_hat = nn_model(X)\n",
        "\n",
        "      # compute loss\n",
        "      loss = loss_fun(y_hat, y)\n",
        "\n",
        "      # back prop\n",
        "      optimizer.zero_grad()\n",
        "      loss.backward()\n",
        "      optimizer.step()\n",
        "\n",
        "      # compute batch average training accuracy\n",
        "      # Convert one-hot encoded labels (y) to class indices\n",
        "      y_hat_indices = torch.argmax(nn.functional.softmax(y_hat), axis=1)\n",
        "      y_indices = torch.argmax(y,axis=1)\n",
        "\n",
        "      # print(y)\n",
        "      # print(nn.functional.softmax(y_hat))\n",
        "      # print(\"\\n\")\n",
        "      # print(y_indices)\n",
        "      # print(y_hat_indices)\n",
        "\n",
        "      # Calculate accuracy\n",
        "      batchAcc.append(100 * torch.mean((y_hat_indices == y_indices).float()).item())\n",
        "      batchLoss.append( loss.item() )\n",
        "\n",
        "    # average batches training accuracy\n",
        "    trainAcc.append( np.mean(batchAcc) )\n",
        "    losses.append( np.mean(batchLoss) )\n",
        "\n",
        "    # test accuracy\n",
        "    nn_model.eval()\n",
        "    X,y = next(iter(test_loader))\n",
        "    predLabels = torch.argmax(nn.functional.softmax(nn_model(X)),axis=1)\n",
        "    y_test_indices = torch.argmax(y,axis=1)\n",
        "\n",
        "    testAcc.append( 100*torch.mean((predLabels == y_test_indices).float()).item() )\n",
        "\n",
        "  return trainAcc, testAcc, losses\n"
      ],
      "metadata": {
        "id": "7CG13h2Sfdsa"
      },
      "execution_count": 244,
      "outputs": []
    },
    {
      "cell_type": "code",
      "source": [
        "trainAcc, testAcc, losses = TrainModel()"
      ],
      "metadata": {
        "id": "SHDF3ouNkSbV"
      },
      "execution_count": null,
      "outputs": []
    },
    {
      "cell_type": "markdown",
      "source": [
        "Plot the accuracy and loss results over epochs"
      ],
      "metadata": {
        "id": "35QLMXVIWW_-"
      }
    },
    {
      "cell_type": "code",
      "source": [
        "import matplotlib.pyplot as plt\n",
        "\n",
        "# plot the results\n",
        "fig,ax = plt.subplots(1,2,figsize=(15,5))\n",
        "\n",
        "\n",
        "ax[0].plot(losses,'k^-')\n",
        "ax[0].set_ylabel('Loss')\n",
        "ax[0].set_xlabel('Epochs')\n",
        "ax[0].set_title('Losses with minibatch size=' + str(30))\n",
        "\n",
        "ax[1].plot(trainAcc,'ro-')\n",
        "ax[1].plot(testAcc,'bs-')\n",
        "ax[1].set_title('Accuracy with minibatch size=' + str(30))\n",
        "ax[1].set_xlabel('Epochs')\n",
        "ax[1].set_ylabel('Accuracy (%)')\n",
        "ax[1].legend(['Train','Test'])\n",
        "ax[1].set_ylim([27,103])\n",
        "\n",
        "plt.show()"
      ],
      "metadata": {
        "colab": {
          "base_uri": "https://localhost:8080/",
          "height": 487
        },
        "id": "cOCRZ0yW606B",
        "outputId": "208d63cc-742f-4b07-dfe2-0a0b73a3d16a"
      },
      "execution_count": 251,
      "outputs": [
        {
          "output_type": "display_data",
          "data": {
            "text/plain": [
              "<Figure size 1500x500 with 2 Axes>"
            ],
            "image/png": "[encoded data removed]"
          },
          "metadata": {}
        }
      ]
    },
    {
      "cell_type": "markdown",
      "source": [
        "mean accuracy of train and tests sets, as well as loss mean"
      ],
      "metadata": {
        "id": "s4vqdVGrV9OD"
      }
    },
    {
      "cell_type": "code",
      "source": [
        "print(f\"train accuracy mean: {np.mean(trainAcc):.2f}\")\n",
        "print(f\"test accuracy mean: {np.mean(testAcc):.2f}\")\n",
        "print(f\"loss mean: {np.mean(losses):.2f}\")"
      ],
      "metadata": {
        "colab": {
          "base_uri": "https://localhost:8080/"
        },
        "id": "nOaSMYby7lKF",
        "outputId": "c5533059-2d78-46ee-ddb9-48c067d066ea"
      },
      "execution_count": 254,
      "outputs": [
        {
          "output_type": "stream",
          "name": "stdout",
          "text": [
            "train accuracy mean: 97.20\n",
            "test accuracy mean: 96.26\n",
            "loss mean: 0.07\n"
          ]
        }
      ]
    },
    {
      "cell_type": "markdown",
      "source": [
        "High accuracy of train and test sets - the problem we are trying to solve here is a simple one, with a simple dataset - only 4 features to train on,\n",
        "thus having a high accuracy.\n",
        "The dataset itself is small and has no need for any more data for the model to converge on a high accuracy solution."
      ],
      "metadata": {
        "id": "U5KUbOlXWozr"
      }
    },
    {
      "cell_type": "markdown",
      "source": [
        "Test model - predicting test set and showing predicted labels against actual labels"
      ],
      "metadata": {
        "id": "qKeODzYSV7Jg"
      }
    },
    {
      "cell_type": "code",
      "source": [
        "X,y = next(iter(test_loader))\n",
        "\n",
        "predictions = torch.argmax(nn.functional.softmax(nn_model(X)),axis=1)\n",
        "actual_labels = torch.argmax(y,axis=1)\n",
        "\n",
        "print(f\"prediction: {predictions}\")\n",
        "print(f\"actual label: {actual_labels}\")"
      ],
      "metadata": {
        "colab": {
          "base_uri": "https://localhost:8080/"
        },
        "id": "cLFSj5fGKD__",
        "outputId": "43884884-e1c6-4437-8576-3df626510f1a"
      },
      "execution_count": 255,
      "outputs": [
        {
          "output_type": "stream",
          "name": "stdout",
          "text": [
            "prediction: tensor([1, 0, 2, 1, 1, 0, 1, 2, 2, 1, 2, 0, 0, 0, 0, 1, 2, 1, 1, 2, 0, 2, 0, 2,\n",
            "        2, 2, 2, 2, 0, 0])\n",
            "actual label: tensor([1, 0, 2, 1, 1, 0, 1, 2, 1, 1, 2, 0, 0, 0, 0, 1, 2, 1, 1, 2, 0, 2, 0, 2,\n",
            "        2, 2, 2, 2, 0, 0])\n"
          ]
        },
        {
          "output_type": "stream",
          "name": "stderr",
          "text": [
            "<ipython-input-255-3e2efc0b34ee>:3: UserWarning: Implicit dimension choice for softmax has been deprecated. Change the call to include dim=X as an argument.\n",
            "  predictions = torch.argmax(nn.functional.softmax(nn_model(X)),axis=1)\n"
          ]
        }
      ]
    }
  ]
}